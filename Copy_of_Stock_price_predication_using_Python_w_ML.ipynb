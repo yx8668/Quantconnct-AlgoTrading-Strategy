{
  "nbformat": 4,
  "nbformat_minor": 0,
  "metadata": {
    "colab": {
      "name": "Copy of Stock price predication using Python w ML.ipynb",
      "provenance": [],
      "collapsed_sections": [],
      "authorship_tag": "ABX9TyPQtBY4AuWr/wzTGVaP2A8y",
      "include_colab_link": true
    },
    "kernelspec": {
      "name": "python3",
      "display_name": "Python 3"
    },
    "language_info": {
      "name": "python"
    }
  },
  "cells": [
    {
      "cell_type": "markdown",
      "metadata": {
        "id": "view-in-github",
        "colab_type": "text"
      },
      "source": [
        "<a href=\"https://colab.research.google.com/github/yx8668/Quantconnct-AlgoTrading-Strategy/blob/main/Copy_of_Stock_price_predication_using_Python_w_ML.ipynb\" target=\"_parent\"><img src=\"https://colab.research.google.com/assets/colab-badge.svg\" alt=\"Open In Colab\"/></a>"
      ]
    },
    {
      "cell_type": "code",
      "metadata": {
        "id": "LMwiRV5dqpwM"
      },
      "source": [
        "# stock price prediction using Long Short Term Memory (LSTM) "
      ],
      "execution_count": 10,
      "outputs": []
    },
    {
      "cell_type": "code",
      "metadata": {
        "id": "uOR-H7_upQjW"
      },
      "source": [
        "#import libraries\n",
        "import math\n",
        "import pandas as pd\n",
        "import numpy as np\n",
        "import pandas_datareader as web\n",
        "import matplotlib.pyplot as plt\n",
        "plt.style.use('fivethirtyeight')\n",
        "\n",
        "from sklearn.preprocessing import MinMaxScaler\n",
        "from keras.models import Sequential\n",
        "from keras.layers import Dense, LSTM\n"
      ],
      "execution_count": 11,
      "outputs": []
    },
    {
      "cell_type": "code",
      "metadata": {
        "colab": {
          "base_uri": "https://localhost:8080/",
          "height": 657
        },
        "id": "zoCs3t2vrH2k",
        "outputId": "bae6f921-4a64-4465-fbdd-5512bb0b9fff"
      },
      "source": [
        "#get stock quote\n",
        "df = web.DataReader('GME', data_source='yahoo', start = '2015-01-01', end = '2021-04-30')\n",
        "#show the data\n",
        "df"
      ],
      "execution_count": 12,
      "outputs": [
        {
          "output_type": "execute_result",
          "data": {
            "text/html": [
              "<div>\n",
              "<style scoped>\n",
              "    .dataframe tbody tr th:only-of-type {\n",
              "        vertical-align: middle;\n",
              "    }\n",
              "\n",
              "    .dataframe tbody tr th {\n",
              "        vertical-align: top;\n",
              "    }\n",
              "\n",
              "    .dataframe thead th {\n",
              "        text-align: right;\n",
              "    }\n",
              "</style>\n",
              "<table border=\"1\" class=\"dataframe\">\n",
              "  <thead>\n",
              "    <tr style=\"text-align: right;\">\n",
              "      <th></th>\n",
              "      <th>High</th>\n",
              "      <th>Low</th>\n",
              "      <th>Open</th>\n",
              "      <th>Close</th>\n",
              "      <th>Volume</th>\n",
              "      <th>Adj Close</th>\n",
              "    </tr>\n",
              "    <tr>\n",
              "      <th>Date</th>\n",
              "      <th></th>\n",
              "      <th></th>\n",
              "      <th></th>\n",
              "      <th></th>\n",
              "      <th></th>\n",
              "      <th></th>\n",
              "    </tr>\n",
              "  </thead>\n",
              "  <tbody>\n",
              "    <tr>\n",
              "      <th>2015-01-02</th>\n",
              "      <td>34.160000</td>\n",
              "      <td>33.250000</td>\n",
              "      <td>34.060001</td>\n",
              "      <td>33.799999</td>\n",
              "      <td>1612700.0</td>\n",
              "      <td>25.155836</td>\n",
              "    </tr>\n",
              "    <tr>\n",
              "      <th>2015-01-05</th>\n",
              "      <td>34.880001</td>\n",
              "      <td>33.330002</td>\n",
              "      <td>33.520000</td>\n",
              "      <td>34.720001</td>\n",
              "      <td>4934900.0</td>\n",
              "      <td>25.840551</td>\n",
              "    </tr>\n",
              "    <tr>\n",
              "      <th>2015-01-06</th>\n",
              "      <td>36.029999</td>\n",
              "      <td>33.520000</td>\n",
              "      <td>35.169998</td>\n",
              "      <td>33.689999</td>\n",
              "      <td>4885100.0</td>\n",
              "      <td>25.073961</td>\n",
              "    </tr>\n",
              "    <tr>\n",
              "      <th>2015-01-07</th>\n",
              "      <td>34.680000</td>\n",
              "      <td>32.980000</td>\n",
              "      <td>34.290001</td>\n",
              "      <td>33.299999</td>\n",
              "      <td>2558300.0</td>\n",
              "      <td>24.783703</td>\n",
              "    </tr>\n",
              "    <tr>\n",
              "      <th>2015-01-08</th>\n",
              "      <td>34.169998</td>\n",
              "      <td>33.320000</td>\n",
              "      <td>33.599998</td>\n",
              "      <td>33.689999</td>\n",
              "      <td>4547400.0</td>\n",
              "      <td>25.073961</td>\n",
              "    </tr>\n",
              "    <tr>\n",
              "      <th>...</th>\n",
              "      <td>...</td>\n",
              "      <td>...</td>\n",
              "      <td>...</td>\n",
              "      <td>...</td>\n",
              "      <td>...</td>\n",
              "      <td>...</td>\n",
              "    </tr>\n",
              "    <tr>\n",
              "      <th>2021-04-26</th>\n",
              "      <td>174.679993</td>\n",
              "      <td>148.759995</td>\n",
              "      <td>150.979996</td>\n",
              "      <td>168.929993</td>\n",
              "      <td>10532100.0</td>\n",
              "      <td>168.929993</td>\n",
              "    </tr>\n",
              "    <tr>\n",
              "      <th>2021-04-27</th>\n",
              "      <td>188.000000</td>\n",
              "      <td>173.169998</td>\n",
              "      <td>183.550003</td>\n",
              "      <td>177.770004</td>\n",
              "      <td>8932700.0</td>\n",
              "      <td>177.770004</td>\n",
              "    </tr>\n",
              "    <tr>\n",
              "      <th>2021-04-28</th>\n",
              "      <td>181.979996</td>\n",
              "      <td>166.029999</td>\n",
              "      <td>172.100006</td>\n",
              "      <td>178.580002</td>\n",
              "      <td>5788900.0</td>\n",
              "      <td>178.580002</td>\n",
              "    </tr>\n",
              "    <tr>\n",
              "      <th>2021-04-29</th>\n",
              "      <td>180.860001</td>\n",
              "      <td>170.750000</td>\n",
              "      <td>176.559998</td>\n",
              "      <td>176.190002</td>\n",
              "      <td>3760300.0</td>\n",
              "      <td>176.190002</td>\n",
              "    </tr>\n",
              "    <tr>\n",
              "      <th>2021-04-30</th>\n",
              "      <td>183.800003</td>\n",
              "      <td>172.699997</td>\n",
              "      <td>175.000000</td>\n",
              "      <td>173.589996</td>\n",
              "      <td>4417200.0</td>\n",
              "      <td>173.589996</td>\n",
              "    </tr>\n",
              "  </tbody>\n",
              "</table>\n",
              "<p>1593 rows × 6 columns</p>\n",
              "</div>"
            ],
            "text/plain": [
              "                  High         Low  ...      Volume   Adj Close\n",
              "Date                                ...                        \n",
              "2015-01-02   34.160000   33.250000  ...   1612700.0   25.155836\n",
              "2015-01-05   34.880001   33.330002  ...   4934900.0   25.840551\n",
              "2015-01-06   36.029999   33.520000  ...   4885100.0   25.073961\n",
              "2015-01-07   34.680000   32.980000  ...   2558300.0   24.783703\n",
              "2015-01-08   34.169998   33.320000  ...   4547400.0   25.073961\n",
              "...                ...         ...  ...         ...         ...\n",
              "2021-04-26  174.679993  148.759995  ...  10532100.0  168.929993\n",
              "2021-04-27  188.000000  173.169998  ...   8932700.0  177.770004\n",
              "2021-04-28  181.979996  166.029999  ...   5788900.0  178.580002\n",
              "2021-04-29  180.860001  170.750000  ...   3760300.0  176.190002\n",
              "2021-04-30  183.800003  172.699997  ...   4417200.0  173.589996\n",
              "\n",
              "[1593 rows x 6 columns]"
            ]
          },
          "metadata": {
            "tags": []
          },
          "execution_count": 12
        }
      ]
    },
    {
      "cell_type": "code",
      "metadata": {
        "colab": {
          "base_uri": "https://localhost:8080/"
        },
        "id": "2OjGfBJQscQ_",
        "outputId": "394abd6e-f0a9-4e4c-94b5-00d96ae2cfcb"
      },
      "source": [
        "#show no of rows & columns\n",
        "df.shape"
      ],
      "execution_count": 13,
      "outputs": [
        {
          "output_type": "execute_result",
          "data": {
            "text/plain": [
              "(1593, 6)"
            ]
          },
          "metadata": {
            "tags": []
          },
          "execution_count": 13
        }
      ]
    },
    {
      "cell_type": "code",
      "metadata": {
        "colab": {
          "base_uri": "https://localhost:8080/",
          "height": 187
        },
        "id": "LNAQXDKqsj1u",
        "outputId": "3d3d2f1d-8bd5-4804-ae3d-eb8f759619d3"
      },
      "source": [
        "#plot the graph for close price history\n",
        "plt.figure(figsize=(16,8))\n",
        "plt.title('GME close price history')\n",
        "plt.plot(df['Close'])\n",
        "plt.xlabel('Date', fontsize=18)\n",
        "plt.ylabel('Close Price', fontsize=18)\n",
        "plt.show()\n"
      ],
      "execution_count": 14,
      "outputs": [
        {
          "output_type": "display_data",
          "data": {
            "image/png": "[encoded data removed]",
            "text/plain": [
              "<Figure size 1152x576 with 1 Axes>"
            ]
          },
          "metadata": {
            "tags": []
          }
        }
      ]
    },
    {
      "cell_type": "code",
      "metadata": {
        "colab": {
          "base_uri": "https://localhost:8080/"
        },
        "id": "ou379UQPw3Mj",
        "outputId": "9b215ca3-7047-4049-8a69-a5ced8fb21c1"
      },
      "source": [
        "#new dataframe for close price only\n",
        "data = df.filter(['Close'])\n",
        "#convert dataframe to numpy array\n",
        "dataset = data.values\n",
        "#get no. of rows to train the LSTM model\n",
        "train_data_len = math.ceil(len(dataset) * .85)\n",
        "#show len\n",
        "train_data_len"
      ],
      "execution_count": 15,
      "outputs": [
        {
          "output_type": "execute_result",
          "data": {
            "text/plain": [
              "1355"
            ]
          },
          "metadata": {
            "tags": []
          },
          "execution_count": 15
        }
      ]
    },
    {
      "cell_type": "code",
      "metadata": {
        "colab": {
          "base_uri": "https://localhost:8080/"
        },
        "id": "k_au5R0jzC46",
        "outputId": "3acb240b-4663-4fc0-c9fa-8dc60a38afbb"
      },
      "source": [
        "#scale the data btw 0 & 1 (recommended process)\n",
        "scaler = MinMaxScaler(feature_range=(0,1))\n",
        "scaled_data = scaler.fit_transform(dataset)\n",
        "#show scaled data\n",
        "scaled_data"
      ],
      "execution_count": 16,
      "outputs": [
        {
          "output_type": "execute_result",
          "data": {
            "text/plain": [
              "array([[0.08993066],\n",
              "       [0.09259958],\n",
              "       [0.08961155],\n",
              "       ...,\n",
              "       [0.50993588],\n",
              "       [0.50300252],\n",
              "       [0.49545993]])"
            ]
          },
          "metadata": {
            "tags": []
          },
          "execution_count": 16
        }
      ]
    },
    {
      "cell_type": "code",
      "metadata": {
        "colab": {
          "base_uri": "https://localhost:8080/"
        },
        "id": "wh2NoDaY2UUL",
        "outputId": "1619efdb-7eb3-44e8-b536-9a056d663868"
      },
      "source": [
        "#create training data set\n",
        "#create the scaled training data set first\n",
        "train_data = scaled_data[0:train_data_len, :]\n",
        "#split the data set into x_train & y_train\n",
        "x_train =[]\n",
        "y_train = []\n",
        "\n",
        "#first 60 values\n",
        "for i in range (60, len(train_data)):\n",
        "  x_train.append(train_data[i-60:i, 0])\n",
        "  y_train.append(train_data[i, 0])\n",
        "  if i<=61:\n",
        "    print(x_train)\n",
        "    print(y_train)\n",
        "    print()"
      ],
      "execution_count": 17,
      "outputs": [
        {
          "output_type": "stream",
          "text": [
            "[array([0.08993066, 0.09259958, 0.08961155, 0.08848017, 0.08961155,\n",
            "       0.08549215, 0.08984364, 0.08694265, 0.09692205, 0.09184531,\n",
            "       0.09732818, 0.09651591, 0.09874967, 0.09956194, 0.10037423,\n",
            "       0.10257898, 0.10292709, 0.10098343, 0.09709611, 0.0941371 ,\n",
            "       0.09872067, 0.10066432, 0.09814047, 0.09834353, 0.09851759,\n",
            "       0.09973601, 0.10223086, 0.10072234, 0.09993908, 0.10022917,\n",
            "       0.10025819, 0.10066432, 0.10075135, 0.10063532, 0.10022917,\n",
            "       0.09961997, 0.1000261 , 0.09930086, 0.0991268 , 0.10405848,\n",
            "       0.10408749, 0.10800382, 0.1079168 , 0.10838095, 0.11032462,\n",
            "       0.10980244, 0.10640828, 0.10698848, 0.10994749, 0.11107888,\n",
            "       0.1105567 , 0.1111659 , 0.11020858, 0.1105857 , 0.11180412,\n",
            "       0.1105567 , 0.10736561, 0.1044066 , 0.10315918, 0.10121551])]\n",
            "[0.10199877616318323]\n",
            "\n",
            "[array([0.08993066, 0.09259958, 0.08961155, 0.08848017, 0.08961155,\n",
            "       0.08549215, 0.08984364, 0.08694265, 0.09692205, 0.09184531,\n",
            "       0.09732818, 0.09651591, 0.09874967, 0.09956194, 0.10037423,\n",
            "       0.10257898, 0.10292709, 0.10098343, 0.09709611, 0.0941371 ,\n",
            "       0.09872067, 0.10066432, 0.09814047, 0.09834353, 0.09851759,\n",
            "       0.09973601, 0.10223086, 0.10072234, 0.09993908, 0.10022917,\n",
            "       0.10025819, 0.10066432, 0.10075135, 0.10063532, 0.10022917,\n",
            "       0.09961997, 0.1000261 , 0.09930086, 0.0991268 , 0.10405848,\n",
            "       0.10408749, 0.10800382, 0.1079168 , 0.10838095, 0.11032462,\n",
            "       0.10980244, 0.10640828, 0.10698848, 0.10994749, 0.11107888,\n",
            "       0.1105567 , 0.1111659 , 0.11020858, 0.1105857 , 0.11180412,\n",
            "       0.1105567 , 0.10736561, 0.1044066 , 0.10315918, 0.10121551]), array([0.09259958, 0.08961155, 0.08848017, 0.08961155, 0.08549215,\n",
            "       0.08984364, 0.08694265, 0.09692205, 0.09184531, 0.09732818,\n",
            "       0.09651591, 0.09874967, 0.09956194, 0.10037423, 0.10257898,\n",
            "       0.10292709, 0.10098343, 0.09709611, 0.0941371 , 0.09872067,\n",
            "       0.10066432, 0.09814047, 0.09834353, 0.09851759, 0.09973601,\n",
            "       0.10223086, 0.10072234, 0.09993908, 0.10022917, 0.10025819,\n",
            "       0.10066432, 0.10075135, 0.10063532, 0.10022917, 0.09961997,\n",
            "       0.1000261 , 0.09930086, 0.0991268 , 0.10405848, 0.10408749,\n",
            "       0.10800382, 0.1079168 , 0.10838095, 0.11032462, 0.10980244,\n",
            "       0.10640828, 0.10698848, 0.10994749, 0.11107888, 0.1105567 ,\n",
            "       0.1111659 , 0.11020858, 0.1105857 , 0.11180412, 0.1105567 ,\n",
            "       0.10736561, 0.1044066 , 0.10315918, 0.10121551, 0.10199878])]\n",
            "[0.10199877616318323, 0.10147659723001776]\n",
            "\n"
          ],
          "name": "stdout"
        }
      ]
    },
    {
      "cell_type": "code",
      "metadata": {
        "id": "JhcNvGcc41iY"
      },
      "source": [
        "#convert x_train & y_train to numpy array\n",
        "x_train, y_train = np.array(x_train), np.array(y_train)\n"
      ],
      "execution_count": 18,
      "outputs": []
    },
    {
      "cell_type": "code",
      "metadata": {
        "colab": {
          "base_uri": "https://localhost:8080/"
        },
        "id": "Ro6uQGmW57Fl",
        "outputId": "f02257af-dc5a-4cab-ac3d-b950161895af"
      },
      "source": [
        "#reshape the data (from 2D to 3D) due to ML\n",
        "x_train = np.reshape(x_train, (x_train.shape[0], x_train.shape[1], 1))\n",
        "x_train.shape"
      ],
      "execution_count": 19,
      "outputs": [
        {
          "output_type": "execute_result",
          "data": {
            "text/plain": [
              "(1295, 60, 1)"
            ]
          },
          "metadata": {
            "tags": []
          },
          "execution_count": 19
        }
      ]
    },
    {
      "cell_type": "code",
      "metadata": {
        "id": "bglVGE9n8Xcn"
      },
      "source": [
        "#create the LSTM model (the number refer to the neurons)\n",
        "model = Sequential()\n",
        "model.add(LSTM(50, return_sequences=True, input_shape=(x_train.shape[1],1)))\n",
        "model.add(LSTM(50, return_sequences=False))\n",
        "model.add(Dense(25))\n",
        "model.add(Dense(1))\n",
        "\n"
      ],
      "execution_count": 20,
      "outputs": []
    },
    {
      "cell_type": "code",
      "metadata": {
        "id": "ki6vMBsvDGLi"
      },
      "source": [
        "#compile the model \n",
        "#add an optimizer to improve the loss function\n",
        "#loss function to see how well the model did in training\n",
        "model.compile(optimizer='adam', loss='mean_squared_error')\n",
        "\n"
      ],
      "execution_count": 21,
      "outputs": []
    },
    {
      "cell_type": "code",
      "metadata": {
        "colab": {
          "base_uri": "https://localhost:8080/"
        },
        "id": "XU1YxZTmE6B6",
        "outputId": "b495186e-ce20-43b4-f9b9-62a30781d1a2"
      },
      "source": [
        "#train the model\n",
        "model.fit(x_train, y_train, batch_size=1, epochs=1)\n"
      ],
      "execution_count": 22,
      "outputs": [
        {
          "output_type": "stream",
          "text": [
            "1295/1295 [==============================] - 49s 24ms/step - loss: 1.4228e-04\n"
          ],
          "name": "stdout"
        },
        {
          "output_type": "execute_result",
          "data": {
            "text/plain": [
              "<keras.callbacks.History at 0x7fd1b7ab78d0>"
            ]
          },
          "metadata": {
            "tags": []
          },
          "execution_count": 22
        }
      ]
    },
    {
      "cell_type": "code",
      "metadata": {
        "id": "EGMHwzNID5YM"
      },
      "source": [
        "#create the testing data set\n",
        "#create a new array from 1295 to 2095\n",
        "test_data = scaled_data[train_data_len-60:,:]\n",
        "#create test data set for x_test & y_test\n",
        "x_test = []\n",
        "y_test = dataset[train_data_len:,:]\n",
        "for i in range (60, len(test_data)):\n",
        "  x_test.append(test_data[i-60:i, 0])\n"
      ],
      "execution_count": 23,
      "outputs": []
    },
    {
      "cell_type": "code",
      "metadata": {
        "id": "QoVFYK0MIN4Y"
      },
      "source": [
        "#convert the data into numpy array\n",
        "x_test = np.array(x_test)\n"
      ],
      "execution_count": 24,
      "outputs": []
    },
    {
      "cell_type": "code",
      "metadata": {
        "id": "O6Ete_--JHIk"
      },
      "source": [
        "#reshape the date (from 2D to 3D)\n",
        "x_test = np.reshape(x_test, (x_test.shape[0], x_test.shape[1], 1))\n",
        "\n",
        "\n"
      ],
      "execution_count": 25,
      "outputs": []
    },
    {
      "cell_type": "code",
      "metadata": {
        "id": "rY8QTteOKWQ4"
      },
      "source": [
        "#predict the price (and unscale the data)\n",
        "predictions = model.predict(x_test)\n",
        "predictions = scaler.inverse_transform(predictions)\n",
        "\n",
        "\n"
      ],
      "execution_count": 26,
      "outputs": []
    },
    {
      "cell_type": "code",
      "metadata": {
        "colab": {
          "base_uri": "https://localhost:8080/"
        },
        "id": "i7Kyk1zjLc7c",
        "outputId": "cd2a83cb-8a37-4182-84d7-9a2d4d6682a6"
      },
      "source": [
        "#get the root mean squared error (RMSE) \n",
        "#a good measure predict of how the model responsed\n",
        "#use rsme to evaluate the model\n",
        "rmse = np.sqrt ( np.mean (predictions - y_test) ** 2)\n",
        "rmse\n",
        "\n"
      ],
      "execution_count": 27,
      "outputs": [
        {
          "output_type": "execute_result",
          "data": {
            "text/plain": [
              "4.4829888584233135"
            ]
          },
          "metadata": {
            "tags": []
          },
          "execution_count": 27
        }
      ]
    },
    {
      "cell_type": "code",
      "metadata": {
        "colab": {
          "base_uri": "https://localhost:8080/",
          "height": 315
        },
        "id": "ptwwwcnVRAHC",
        "outputId": "0d385f87-9623-4b4d-fb6c-30abac6941da"
      },
      "source": [
        "#plot the graph\n",
        "train = data[:train_data_len]\n",
        "valid = data[train_data_len:]\n",
        "valid['Predictions'] = predictions\n",
        "#visualize of data\n",
        "plt.figure(figsize=(16,8))\n",
        "plt.title('GME Prediction Model')\n",
        "plt.xlabel('Date', fontsize=18)\n",
        "plt.ylabel('Close Price', fontsize=18)\n",
        "plt.plot(train['Close'])\n",
        "plt.plot(valid[['Close','Predictions']])\n",
        "plt.legend(['Train','Valid','Predictions'], loc='upper right')\n",
        "plt.show()\n",
        "\n"
      ],
      "execution_count": 28,
      "outputs": [
        {
          "output_type": "stream",
          "text": [
            "/usr/local/lib/python3.7/dist-packages/ipykernel_launcher.py:4: SettingWithCopyWarning: \n",
            "A value is trying to be set on a copy of a slice from a DataFrame.\n",
            "Try using .loc[row_indexer,col_indexer] = value instead\n",
            "\n",
            "See the caveats in the documentation: https://pandas.pydata.org/pandas-docs/stable/user_guide/indexing.html#returning-a-view-versus-a-copy\n",
            "  after removing the cwd from sys.path.\n"
          ],
          "name": "stderr"
        },
        {
          "output_type": "display_data",
          "data": {
            "image/png": "[encoded data removed]",
            "text/plain": [
              "<Figure size 1152x576 with 1 Axes>"
            ]
          },
          "metadata": {
            "tags": []
          }
        }
      ]
    },
    {
      "cell_type": "code",
      "metadata": {
        "colab": {
          "base_uri": "https://localhost:8080/",
          "height": 450
        },
        "id": "WevhMZ7DVBBj",
        "outputId": "b9cd8e09-124b-4bda-ff1b-abc2b073e539"
      },
      "source": [
        "#show the actual and predicted price in table format\n",
        "valid\n",
        "\n"
      ],
      "execution_count": 29,
      "outputs": [
        {
          "output_type": "execute_result",
          "data": {
            "text/html": [
              "<div>\n",
              "<style scoped>\n",
              "    .dataframe tbody tr th:only-of-type {\n",
              "        vertical-align: middle;\n",
              "    }\n",
              "\n",
              "    .dataframe tbody tr th {\n",
              "        vertical-align: top;\n",
              "    }\n",
              "\n",
              "    .dataframe thead th {\n",
              "        text-align: right;\n",
              "    }\n",
              "</style>\n",
              "<table border=\"1\" class=\"dataframe\">\n",
              "  <thead>\n",
              "    <tr style=\"text-align: right;\">\n",
              "      <th></th>\n",
              "      <th>Close</th>\n",
              "      <th>Predictions</th>\n",
              "    </tr>\n",
              "    <tr>\n",
              "      <th>Date</th>\n",
              "      <th></th>\n",
              "      <th></th>\n",
              "    </tr>\n",
              "  </thead>\n",
              "  <tbody>\n",
              "    <tr>\n",
              "      <th>2020-05-21</th>\n",
              "      <td>4.440000</td>\n",
              "      <td>6.724717</td>\n",
              "    </tr>\n",
              "    <tr>\n",
              "      <th>2020-05-22</th>\n",
              "      <td>4.180000</td>\n",
              "      <td>6.700778</td>\n",
              "    </tr>\n",
              "    <tr>\n",
              "      <th>2020-05-26</th>\n",
              "      <td>4.420000</td>\n",
              "      <td>6.660104</td>\n",
              "    </tr>\n",
              "    <tr>\n",
              "      <th>2020-05-27</th>\n",
              "      <td>4.690000</td>\n",
              "      <td>6.637677</td>\n",
              "    </tr>\n",
              "    <tr>\n",
              "      <th>2020-05-28</th>\n",
              "      <td>4.330000</td>\n",
              "      <td>6.651681</td>\n",
              "    </tr>\n",
              "    <tr>\n",
              "      <th>...</th>\n",
              "      <td>...</td>\n",
              "      <td>...</td>\n",
              "    </tr>\n",
              "    <tr>\n",
              "      <th>2021-04-26</th>\n",
              "      <td>168.929993</td>\n",
              "      <td>148.740799</td>\n",
              "    </tr>\n",
              "    <tr>\n",
              "      <th>2021-04-27</th>\n",
              "      <td>177.770004</td>\n",
              "      <td>149.325775</td>\n",
              "    </tr>\n",
              "    <tr>\n",
              "      <th>2021-04-28</th>\n",
              "      <td>178.580002</td>\n",
              "      <td>151.402893</td>\n",
              "    </tr>\n",
              "    <tr>\n",
              "      <th>2021-04-29</th>\n",
              "      <td>176.190002</td>\n",
              "      <td>154.028351</td>\n",
              "    </tr>\n",
              "    <tr>\n",
              "      <th>2021-04-30</th>\n",
              "      <td>173.589996</td>\n",
              "      <td>156.413483</td>\n",
              "    </tr>\n",
              "  </tbody>\n",
              "</table>\n",
              "<p>238 rows × 2 columns</p>\n",
              "</div>"
            ],
            "text/plain": [
              "                 Close  Predictions\n",
              "Date                               \n",
              "2020-05-21    4.440000     6.724717\n",
              "2020-05-22    4.180000     6.700778\n",
              "2020-05-26    4.420000     6.660104\n",
              "2020-05-27    4.690000     6.637677\n",
              "2020-05-28    4.330000     6.651681\n",
              "...                ...          ...\n",
              "2021-04-26  168.929993   148.740799\n",
              "2021-04-27  177.770004   149.325775\n",
              "2021-04-28  178.580002   151.402893\n",
              "2021-04-29  176.190002   154.028351\n",
              "2021-04-30  173.589996   156.413483\n",
              "\n",
              "[238 rows x 2 columns]"
            ]
          },
          "metadata": {
            "tags": []
          },
          "execution_count": 29
        }
      ]
    },
    {
      "cell_type": "code",
      "metadata": {
        "colab": {
          "base_uri": "https://localhost:8080/"
        },
        "id": "gm7y45-rVRRQ",
        "outputId": "3b32fe17-c351-4f06-b5ac-f663577a6c1c"
      },
      "source": [
        "#get the quote\n",
        "gme_quote = web.DataReader('GME', data_source='yahoo', start='2015-01-01', end='2021-05-27')\n",
        "#create new DF\n",
        "new_df = gme_quote.filter(['Close'])\n",
        "#get last 90days close price and convert to array\n",
        "last_90_days = new_df[-90:].values\n",
        "#scale the date btw 0 & 1\n",
        "last_90_days_scaled = scaler.transform(last_90_days)\n",
        "#create an empty list\n",
        "X_test = []\n",
        "#Append the last 60days\n",
        "X_test.append(last_90_days_scaled)\n",
        "#Convert X_test data into numpy array\n",
        "X_test = np.array(X_test)\n",
        "#reshape the data\n",
        "X_test = np.reshape(X_test, (X_test.shape[0], X_test.shape[1], 1))\n",
        "#get the predicted scaled priceKH\n",
        "predict_price = model.predict(X_test)\n",
        "#unscale the data\n",
        "predict_price = scaler.inverse_transform(predict_price)\n",
        "print (predict_price)\n",
        "\n"
      ],
      "execution_count": 46,
      "outputs": [
        {
          "output_type": "stream",
          "text": [
            "[[182.07928]]\n"
          ],
          "name": "stdout"
        }
      ]
    },
    {
      "cell_type": "code",
      "metadata": {
        "colab": {
          "base_uri": "https://localhost:8080/"
        },
        "id": "OcO5iMS3dO5J",
        "outputId": "c8495820-7ec3-4353-b768-6e911b5c5f87"
      },
      "source": [
        "#get the quote\n",
        "gme_quote2 = web.DataReader('GME', data_source='yahoo', start='2021-05-28', end='2021-05-28')\n",
        "print(gme_quote2['Close'])\n",
        "\n",
        "\n",
        "\n"
      ],
      "execution_count": 47,
      "outputs": [
        {
          "output_type": "stream",
          "text": [
            "Date\n",
            "2021-05-27    254.130005\n",
            "Name: Close, dtype: float64\n"
          ],
          "name": "stdout"
        }
      ]
    }
  ]
}