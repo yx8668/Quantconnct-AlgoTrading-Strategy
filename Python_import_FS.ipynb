{
  "nbformat": 4,
  "nbformat_minor": 0,
  "metadata": {
    "colab": {
      "name": "Python import FS.ipynb",
      "provenance": [],
      "collapsed_sections": [],
      "authorship_tag": "ABX9TyMD7Abtd9xTldPvnmsuVaMA",
      "include_colab_link": true
    },
    "kernelspec": {
      "name": "python3",
      "display_name": "Python 3"
    },
    "language_info": {
      "name": "python"
    }
  },
  "cells": [
    {
      "cell_type": "markdown",
      "metadata": {
        "id": "view-in-github",
        "colab_type": "text"
      },
      "source": [
        "<a href=\"https://colab.research.google.com/github/yx8668/Quantconnct-AlgoTrading-Strategy/blob/main/Python_import_FS.ipynb\" target=\"_parent\"><img src=\"https://colab.research.google.com/assets/colab-badge.svg\" alt=\"Open In Colab\"/></a>"
      ]
    },
    {
      "cell_type": "code",
      "metadata": {
        "id": "FW1Un8PRqkU-"
      },
      "source": [
        "#import libraries\n",
        "import pandas as pd\n",
        "import numpy as np\n",
        "import urllib.request as ur\n",
        "from bs4 import BeautifulSoup \n",
        "\n",
        "#Urllib.request: https://docs.python.org/3/library/urllib.request.html\n",
        "#BeautifulSoup: stored data in XML format\n",
        "\n",
        "\n"
      ],
      "execution_count": 43,
      "outputs": []
    },
    {
      "cell_type": "code",
      "metadata": {
        "id": "V0GBPdW9rkEt",
        "colab": {
          "base_uri": "https://localhost:8080/"
        },
        "outputId": "ee1f2ee2-2bc5-4b61-ab84-4b8fd9d606be"
      },
      "source": [
        "#processing data from URL\n",
        "index = 'GME'\n",
        "\n",
        "url_income_statement = 'https://finance.yahoo.com/quote/GME/financials?p=GME'\n",
        "url_balance_sheet = 'https://finance.yahoo.com/quote/GME/balance-sheet?p=GME'\n",
        "url_cash_flow = 'https://finance.yahoo.com/quote/GME/cash-flow?p=GME'\n",
        "\n",
        "print(url_income_statement, url_balance_sheet, url_cash_flow)\n"
      ],
      "execution_count": 44,
      "outputs": [
        {
          "output_type": "stream",
          "text": [
            "https://finance.yahoo.com/quote/GME/financials?p=GME https://finance.yahoo.com/quote/GME/balance-sheet?p=GME https://finance.yahoo.com/quote/GME/cash-flow?p=GME\n"
          ],
          "name": "stdout"
        }
      ]
    },
    {
      "cell_type": "code",
      "metadata": {
        "id": "k2YUfC8pt-I7"
      },
      "source": [
        "#reading url content and return in html format\n",
        "is_data = ur.urlopen(url_income_statement).read()\n",
        "soup_income_statement = BeautifulSoup(is_data, 'lxml')\n",
        "\n",
        "#print(soup_income_statement)\n",
        "\n",
        "bs_data = ur.urlopen(url_balance_sheet)\n",
        "soup_balance_sheet = BeautifulSoup(bs_data, 'lxml')\n",
        "\n",
        "#print(soup_balance_sheet)\n",
        "\n",
        "cs_data = ur.urlopen(url_cash_flow)\n",
        "soup_cash_flow = BeautifulSoup(cs_data, 'lxml')\n",
        "\n",
        "#print(soup_cash_flow)\n",
        "\n",
        "\n"
      ],
      "execution_count": 45,
      "outputs": []
    },
    {
      "cell_type": "code",
      "metadata": {
        "id": "-1s1vNWn_6Kp",
        "colab": {
          "base_uri": "https://localhost:8080/"
        },
        "outputId": "23d7db7e-9023-4bf6-8c46-bb11cf267910"
      },
      "source": [
        "#getting the correct data from 'div'\n",
        "ls = []\n",
        "for l in soup_income_statement.find_all('div'):\n",
        "  ls.append(l.string)\n",
        "ls = [e for e in ls if e not in ('Operating Expenses', 'Non-recurring Expenses')]\n",
        "\n",
        "#get rid of those 'div' that are empty\n",
        "new_ls = list(filter(None, ls))\n",
        "#print(new_ls)\n",
        "\n",
        "#start from 12th position\n",
        "new_ls = new_ls[12:]\n",
        "\n",
        "income_statement_data = list(zip(*[iter(new_ls)]*6))\n",
        "#print(income_statement_data)\n",
        "\n",
        "#create into dataframe\n",
        "income_statement_table = pd.DataFrame(income_statement_data[0:])\n",
        "print(income_statement_table)\n",
        "\n"
      ],
      "execution_count": 46,
      "outputs": [
        {
          "output_type": "stream",
          "text": [
            "['Yahoo Finance', \"(function () { var inputEl = document.getElementById('yfin-usr-qry'); var perf = window.performance; if (inputEl && inputEl.addEventListener && perf && perf.mark && perf.getEntriesByName) { var listener = function (e) { inputEl.removeEventListener('keyup', listener); if (perf.getEntriesByName('Fin.Search first keyup').length === 0) { perf.mark('Fin.Search first keyup'); } }; inputEl.addEventListener('keyup', listener); } })(); if (window && window.FinSearch && window.FinSearch.init) { window.FinSearch.init({}); }\", \"(function () { var inputEl = document.getElementById('yfin-usr-qry'); var perf = window.performance; if (inputEl && inputEl.addEventListener && perf && perf.mark && perf.getEntriesByName) { var listener = function (e) { inputEl.removeEventListener('keyup', listener); if (perf.getEntriesByName('Fin.Search first keyup').length === 0) { perf.mark('Fin.Search first keyup'); } }; inputEl.addEventListener('keyup', listener); } })(); if (window && window.FinSearch && window.FinSearch.init) { window.FinSearch.init({}); }\", ' react-empty: 2 ', ' react-empty: 2 ', ' react-empty: 2 ', ' react-empty: 2 ', 'GameStop Corp. (GME)', 'NYSE - NYSE Delayed Price. Currency in USD', 'At close:  4:00PM EDT', 'Income Statement', 'Balance Sheet', 'Cash Flow', 'Annual', 'Quarterly', 'Expand All', 'ttm', '1/31/2021', '1/31/2020', '1/31/2019', '1/31/2018', '5,345,600', '5,089,800', '6,466,000', '8,285,300', '9,224,600', 'Cost of Revenue', '4,038,400', '3,830,300', '4,557,300', '5,977,200', '6,184,500', 'Gross Profit', '1,307,200', '1,259,500', '1,908,700', '2,308,100', '3,040,100', '1,498,000', '1,514,200', '1,922,700', '1,994,200', '2,513,700', 'Operating Income', '-190,800', '-254,700', '-14,000', '313,900', '526,400', '-50,100', '-32,100', '-27,200', '-51,100', '-55,300', '20,200', '16,900', '-385,600', '-1,015,900', '-390,800', 'Pretax Income', '-220,700', '-269,900', '-426,800', '-753,100', '80,300', 'Tax Provision', '-104,400', '-55,300', '37,600', '41,700', '45,600', '-116,400', '-215,300', '-470,900', '-673,000', '34,700', 'Diluted NI Available to Com Stockholders', '-116,400', '-215,300', '-470,900', '-673,000', '34,700', 'Basic EPS', '-', '-3.31', '-5.38', '-6.59', '0.34', 'Diluted EPS', '-', '-3.31', '-5.38', '-6.59', '0.34', 'Basic Average Shares', '-', '65,000', '87,500', '102,100', '101,400', 'Diluted Average Shares', '-', '65,000', '87,500', '102,100', '101,500', 'Total Operating Income as Reported', '-170,600', '-237,800', '-399,600', '-702,000', '135,600', 'Total Expenses', '5,536,400', '5,344,500', '6,480,000', '7,971,400', '8,698,200', 'Net Income from Continuing & Discontinued Operation', '-116,400', '-215,300', '-470,900', '-673,000', '34,700', 'Normalized Income', '-128,420', '-228,035', '-182,912', '-53,193', '319,984', 'Interest Income', '1,100', '1,900', '11,300', '5,700', '1,500', 'Interest Expense', '51,200', '34,000', '38,500', '56,800', '56,800', 'Net Interest Income', '-50,100', '-32,100', '-27,200', '-51,100', '-55,300', 'EBIT', '-169,500', '-235,900', '-388,300', '-696,300', '137,100', 'EBITDA', '-91,600', '-', '-', '-', '-', 'Reconciled Cost of Revenue', '4,038,400', '3,830,300', '4,557,300', '5,955,900', '6,183,300', 'Reconciled Depreciation', '77,900', '80,700', '96,200', '126,900', '151,900', 'Net Income from Continuing Operation Net Minority Interest', '-116,300', '-214,600', '-464,400', '-794,800', '34,700', 'Total Unusual Items Excluding Goodwill', '20,200', '16,900', '-385,600', '-1,015,900', '-390,800', 'Total Unusual Items', '20,200', '16,900', '-385,600', '-1,015,900', '-390,800', 'Normalized EBITDA', '-111,800', '-172,100', '93,500', '446,500', '679,800', 'Tax Rate for Calcs', '0', '0', '0', '0', '0', 'Tax Effect of Unusual Items', '8,080', '3,465', '-104,112', '-274,293', '-105,516', 'Advertise with us', 'Advertise with us', '© 2021 Verizon Media. All rights reserved.', 'Discover new investment ideas by accessing unbiased, in-depth investment research']\n",
            "[('Cash Flow', 'Annual', 'Quarterly', 'Expand All', 'ttm', '1/31/2021'), ('1/31/2020', '1/31/2019', '1/31/2018', '5,345,600', '5,089,800', '6,466,000'), ('8,285,300', '9,224,600', 'Cost of Revenue', '4,038,400', '3,830,300', '4,557,300'), ('5,977,200', '6,184,500', 'Gross Profit', '1,307,200', '1,259,500', '1,908,700'), ('2,308,100', '3,040,100', '1,498,000', '1,514,200', '1,922,700', '1,994,200'), ('2,513,700', 'Operating Income', '-190,800', '-254,700', '-14,000', '313,900'), ('526,400', '-50,100', '-32,100', '-27,200', '-51,100', '-55,300'), ('20,200', '16,900', '-385,600', '-1,015,900', '-390,800', 'Pretax Income'), ('-220,700', '-269,900', '-426,800', '-753,100', '80,300', 'Tax Provision'), ('-104,400', '-55,300', '37,600', '41,700', '45,600', '-116,400'), ('-215,300', '-470,900', '-673,000', '34,700', 'Diluted NI Available to Com Stockholders', '-116,400'), ('-215,300', '-470,900', '-673,000', '34,700', 'Basic EPS', '-'), ('-3.31', '-5.38', '-6.59', '0.34', 'Diluted EPS', '-'), ('-3.31', '-5.38', '-6.59', '0.34', 'Basic Average Shares', '-'), ('65,000', '87,500', '102,100', '101,400', 'Diluted Average Shares', '-'), ('65,000', '87,500', '102,100', '101,500', 'Total Operating Income as Reported', '-170,600'), ('-237,800', '-399,600', '-702,000', '135,600', 'Total Expenses', '5,536,400'), ('5,344,500', '6,480,000', '7,971,400', '8,698,200', 'Net Income from Continuing & Discontinued Operation', '-116,400'), ('-215,300', '-470,900', '-673,000', '34,700', 'Normalized Income', '-128,420'), ('-228,035', '-182,912', '-53,193', '319,984', 'Interest Income', '1,100'), ('1,900', '11,300', '5,700', '1,500', 'Interest Expense', '51,200'), ('34,000', '38,500', '56,800', '56,800', 'Net Interest Income', '-50,100'), ('-32,100', '-27,200', '-51,100', '-55,300', 'EBIT', '-169,500'), ('-235,900', '-388,300', '-696,300', '137,100', 'EBITDA', '-91,600'), ('-', '-', '-', '-', 'Reconciled Cost of Revenue', '4,038,400'), ('3,830,300', '4,557,300', '5,955,900', '6,183,300', 'Reconciled Depreciation', '77,900'), ('80,700', '96,200', '126,900', '151,900', 'Net Income from Continuing Operation Net Minority Interest', '-116,300'), ('-214,600', '-464,400', '-794,800', '34,700', 'Total Unusual Items Excluding Goodwill', '20,200'), ('16,900', '-385,600', '-1,015,900', '-390,800', 'Total Unusual Items', '20,200'), ('16,900', '-385,600', '-1,015,900', '-390,800', 'Normalized EBITDA', '-111,800'), ('-172,100', '93,500', '446,500', '679,800', 'Tax Rate for Calcs', '0'), ('0', '0', '0', '0', 'Tax Effect of Unusual Items', '8,080'), ('3,465', '-104,112', '-274,293', '-105,516', 'Advertise with us', 'Advertise with us')]\n",
            "            0  ...                  5\n",
            "0   Cash Flow  ...          1/31/2021\n",
            "1   1/31/2020  ...          6,466,000\n",
            "2   8,285,300  ...          4,557,300\n",
            "3   5,977,200  ...          1,908,700\n",
            "4   2,308,100  ...          1,994,200\n",
            "5   2,513,700  ...            313,900\n",
            "6     526,400  ...            -55,300\n",
            "7      20,200  ...      Pretax Income\n",
            "8    -220,700  ...      Tax Provision\n",
            "9    -104,400  ...           -116,400\n",
            "10   -215,300  ...           -116,400\n",
            "11   -215,300  ...                  -\n",
            "12      -3.31  ...                  -\n",
            "13      -3.31  ...                  -\n",
            "14     65,000  ...                  -\n",
            "15     65,000  ...           -170,600\n",
            "16   -237,800  ...          5,536,400\n",
            "17  5,344,500  ...           -116,400\n",
            "18   -215,300  ...           -128,420\n",
            "19   -228,035  ...              1,100\n",
            "20      1,900  ...             51,200\n",
            "21     34,000  ...            -50,100\n",
            "22    -32,100  ...           -169,500\n",
            "23   -235,900  ...            -91,600\n",
            "24          -  ...          4,038,400\n",
            "25  3,830,300  ...             77,900\n",
            "26     80,700  ...           -116,300\n",
            "27   -214,600  ...             20,200\n",
            "28     16,900  ...             20,200\n",
            "29     16,900  ...           -111,800\n",
            "30   -172,100  ...                  0\n",
            "31          0  ...              8,080\n",
            "32      3,465  ...  Advertise with us\n",
            "\n",
            "[33 rows x 6 columns]\n"
          ],
          "name": "stdout"
        }
      ]
    },
    {
      "cell_type": "code",
      "metadata": {
        "id": "M4X-3YTf-8ja"
      },
      "source": [
        "#data cleaning\n",
        "\n",
        "#name column to first row\n",
        "income_statement_table.columns = income_statement_table.iloc[0]\n",
        "\n",
        "#read first row\n",
        "income_statement_table = income_statement_table.iloc[1:,]\n",
        "\n",
        "#transpose dataframe\n",
        "income_statement_table = income_statement_table.T\n",
        "\n",
        "#name column to first row after transpone\n",
        "income_statement_table.columns = income_statement_table.iloc[0]\n",
        "\n",
        "#drop first index row\n",
        "income_statement_table.drop(income_statement_table.index[0], inplace=True)\n",
        "\n",
        "#remove index name\n",
        "income_statement_table.index.name = ''\n",
        "\n",
        "#remove last x number of irrelevant columns \n",
        "income_statement_table = income_statement_table[income_statement_table.columns[:-5]]\n",
        "\n",
        "#rename certain columns if needed\n",
        "income_statement_table.rename(index={'ttm':'31/12/2020'}, inplace=True)\n",
        "\n",
        "\n"
      ],
      "execution_count": 47,
      "outputs": []
    }
  ]
}